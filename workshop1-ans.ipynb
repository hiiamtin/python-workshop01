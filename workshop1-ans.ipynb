{
 "cells": [
  {
   "cell_type": "code",
   "execution_count": 2,
   "metadata": {},
   "outputs": [],
   "source": [
    "# 🧪 Diabetes Dataset Quiz - Complete Python Solutions"
   ]
  },
  {
   "cell_type": "code",
   "execution_count": 2,
   "metadata": {},
   "outputs": [
    {
     "name": "stdout",
     "output_type": "stream",
     "text": [
      "🏥 DIABETES DATASET QUIZ - COMPLETE SOLUTIONS\n",
      "============================================================\n",
      "Dataset loaded: 100,000 rows, 16 columns\n"
     ]
    }
   ],
   "source": [
    "import pandas as pd\n",
    "\n",
    "# Load the dataset (assuming it's already uploaded in Colab)\n",
    "data = pd.read_csv('data/transformed_data.csv')\n",
    "\n",
    "print(\"🏥 DIABETES DATASET QUIZ - COMPLETE SOLUTIONS\")\n",
    "print(\"=\" * 60)\n",
    "print(f\"Dataset loaded: {data.shape[0]:,} rows, {data.shape[1]} columns\")"
   ]
  },
  {
   "cell_type": "markdown",
   "metadata": {},
   "source": [
    "## Question 1: How many \"Male\" are there in total?"
   ]
  },
  {
   "cell_type": "code",
   "execution_count": 3,
   "metadata": {},
   "outputs": [
    {
     "name": "stdout",
     "output_type": "stream",
     "text": [
      "Total patients: 41430\n",
      "✅ ANSWER: 41430\n"
     ]
    }
   ],
   "source": [
    "total_male_patients = len(data[data['gender'] == 'Male'])\n",
    "print(f\"Total patients: {total_male_patients}\")\n",
    "print(f\"✅ ANSWER: {total_male_patients}\")"
   ]
  },
  {
   "cell_type": "markdown",
   "metadata": {},
   "source": [
    "## Question 2: Average age of all patients"
   ]
  },
  {
   "cell_type": "code",
   "execution_count": 22,
   "metadata": {},
   "outputs": [
    {
     "name": "stdout",
     "output_type": "stream",
     "text": [
      "Average age: 41.9 years\n",
      "Exact value: 41.886 years\n",
      "✅ ANSWER: 41.9\n"
     ]
    }
   ],
   "source": [
    "average_age = data['age'].mean()\n",
    "print(f\"Average age: {average_age:.1f} years\")\n",
    "print(f\"Exact value: {average_age:.3f} years\")\n",
    "print(f\"✅ ANSWER: {average_age:.1f}\")"
   ]
  },
  {
   "cell_type": "markdown",
   "metadata": {},
   "source": [
    "## Question 3: Patients with diabetes"
   ]
  },
  {
   "cell_type": "code",
   "execution_count": 4,
   "metadata": {},
   "outputs": [
    {
     "name": "stdout",
     "output_type": "stream",
     "text": [
      "Patients with diabetes: 8,500\n",
      "Alternative method: 8,500\n",
      "Breakdown:\n",
      "  No diabetes (0): 91,500\n",
      "  Has diabetes (1): 8,500\n",
      "✅ ANSWER: A) 8500 patients\n"
     ]
    }
   ],
   "source": [
    "diabetic_count = data['diabetes'].sum()\n",
    "print(f\"Patients with diabetes: {diabetic_count:,}\")\n",
    "diabetic_count_alt = len(data[data['diabetes'] == 1])\n",
    "print(f\"Alternative method: {diabetic_count_alt:,}\")\n",
    "print(\"Breakdown:\")\n",
    "print(f\"  No diabetes (0): {(data['diabetes'] == 0).sum():,}\")\n",
    "print(f\"  Has diabetes (1): {(data['diabetes'] == 1).sum():,}\")\n",
    "print(f\"✅ ANSWER: A) {diabetic_count_alt} patients\")"
   ]
  },
  {
   "cell_type": "markdown",
   "metadata": {},
   "source": [
    "## Question 4: Percentage of female patients"
   ]
  },
  {
   "cell_type": "code",
   "execution_count": 5,
   "metadata": {},
   "outputs": [
    {
     "name": "stdout",
     "output_type": "stream",
     "text": [
      "Female percentage: 58.6%\n",
      "Manual calculation: 58.6%\n",
      "Female: 58,552, Male: 41,430, Total: 100,000\n",
      "✅ ANSWER: 58.6\n"
     ]
    }
   ],
   "source": [
    "female_percentage = (data['gender'] == 'Female').mean() * 100\n",
    "print(f\"Female percentage: {female_percentage:.1f}%\")\n",
    "female_count = len(data[data['gender'] == 'Female'])\n",
    "male_count = len(data[data['gender'] == 'Male'])\n",
    "total_count = len(data)\n",
    "female_pct_manual = (female_count / total_count) * 100\n",
    "print(f\"Manual calculation: {female_pct_manual:.1f}%\")\n",
    "print(f\"Female: {female_count:,}, Male: {male_count:,}, Total: {total_count:,}\")\n",
    "print(f\"✅ ANSWER: {female_percentage:.1f}\")"
   ]
  },
  {
   "cell_type": "markdown",
   "metadata": {},
   "source": [
    "## Question 5: Patients over 65 years old"
   ]
  },
  {
   "cell_type": "code",
   "execution_count": 6,
   "metadata": {},
   "outputs": [
    {
     "name": "stdout",
     "output_type": "stream",
     "text": [
      "Patients over 65: 14,237\n",
      "Percentage over 65: 14.2%\n",
      "Falls into range: A) 12,000-15,000\n",
      "✅ ANSWER: A) 12,000-15,000\n"
     ]
    }
   ],
   "source": [
    "over_65 = data[data['age'] > 65]\n",
    "over_65_count = len(over_65)\n",
    "print(f\"Patients over 65: {over_65_count:,}\")\n",
    "percentage_over_65 = (over_65_count / len(data)) * 100\n",
    "print(f\"Percentage over 65: {percentage_over_65:.1f}%\")\n",
    "if 12000 <= over_65_count < 15000:\n",
    "    range_answer = \"A) 12,000-15,000\"\n",
    "elif 15000 <= over_65_count < 18000:\n",
    "    range_answer = \"B) 15,000-18,000\"\n",
    "elif 18000 <= over_65_count < 21000:\n",
    "    range_answer = \"C) 18,000-21,000\"\n",
    "else:\n",
    "    range_answer = \"D) 21,000-24,000\"\n",
    "print(f\"Falls into range: {range_answer}\")\n",
    "print(f\"✅ ANSWER: {range_answer}\")"
   ]
  },
  {
   "cell_type": "markdown",
   "metadata": {},
   "source": [
    "## Question 6: Average BMI of diabetic patients"
   ]
  },
  {
   "cell_type": "code",
   "execution_count": 7,
   "metadata": {},
   "outputs": [
    {
     "name": "stdout",
     "output_type": "stream",
     "text": [
      "Average BMI of diabetic patients: 32.0\n",
      "Average BMI of non-diabetic patients: 26.9\n",
      "Difference: 5.1 BMI points\n",
      "✅ ANSWER: 32.0\n"
     ]
    }
   ],
   "source": [
    "diabetic_patients = data[data['diabetes'] == 1]\n",
    "diabetic_bmi = diabetic_patients['bmi'].mean()\n",
    "print(f\"Average BMI of diabetic patients: {diabetic_bmi:.1f}\")\n",
    "non_diabetic_bmi = data[data['diabetes'] == 0]['bmi'].mean()\n",
    "print(f\"Average BMI of non-diabetic patients: {non_diabetic_bmi:.1f}\")\n",
    "print(f\"Difference: {diabetic_bmi - non_diabetic_bmi:.1f} BMI points\")\n",
    "print(f\"✅ ANSWER: {diabetic_bmi:.1f}\")"
   ]
  },
  {
   "cell_type": "markdown",
   "metadata": {},
   "source": [
    "## Question 7: Which gender has higher diabetes rate?"
   ]
  },
  {
   "cell_type": "code",
   "execution_count": 8,
   "metadata": {},
   "outputs": [
    {
     "name": "stdout",
     "output_type": "stream",
     "text": [
      "Male diabetes rate: 0.0975 (9.75%)\n",
      "Female diabetes rate: 0.0762 (7.62%)\n",
      "\n",
      "Using groupby:\n",
      "  Female: 0.0762 (7.62%)\n",
      "  Male: 0.0975 (9.75%)\n",
      "  Other: 0.0000 (0.00%)\n",
      "\n",
      "Males have higher diabetes rate by 2.13 percentage points\n",
      "✅ ANSWER: A) Males\n"
     ]
    }
   ],
   "source": [
    "male_diabetes_rate = data[data['gender'] == 'Male']['diabetes'].mean()\n",
    "female_diabetes_rate = data[data['gender'] == 'Female']['diabetes'].mean()\n",
    "print(f\"Male diabetes rate: {male_diabetes_rate:.4f} ({male_diabetes_rate*100:.2f}%)\")\n",
    "print(f\"Female diabetes rate: {female_diabetes_rate:.4f} ({female_diabetes_rate*100:.2f}%)\")\n",
    "diabetes_by_gender = data.groupby('gender')['diabetes'].mean()\n",
    "print(\"\\nUsing groupby:\")\n",
    "for gender, rate in diabetes_by_gender.items():\n",
    "    print(f\"  {gender}: {rate:.4f} ({rate*100:.2f}%)\")\n",
    "if male_diabetes_rate > female_diabetes_rate:\n",
    "    winner = \"Males\"\n",
    "    difference = (male_diabetes_rate - female_diabetes_rate) * 100\n",
    "else:\n",
    "    winner = \"Females\"\n",
    "    difference = (female_diabetes_rate - male_diabetes_rate) * 100\n",
    "print(f\"\\n{winner} have higher diabetes rate by {difference:.2f} percentage points\")\n",
    "print(f\"✅ ANSWER: A) {winner}\")"
   ]
  },
  {
   "cell_type": "markdown",
   "metadata": {},
   "source": [
    "## Question 8: Female + diabetes + over 50"
   ]
  },
  {
   "cell_type": "code",
   "execution_count": 9,
   "metadata": {},
   "outputs": [
    {
     "name": "stdout",
     "output_type": "stream",
     "text": [
      "Female + Diabetes + Over 50: 2,853 patients\n",
      "\n",
      "Step-by-step verification:\n",
      "  Step 1 - Female patients: 58,552\n",
      "  Step 2 - Female with diabetes: 4,461\n",
      "  Step 3 - Female with diabetes over 50: 2,853\n",
      "Both methods give same result: True\n",
      "✅ ANSWER: 2,853 patients\n"
     ]
    }
   ],
   "source": [
    "female_diabetes_over50 = data[(data['gender'] == 'Female') & (data['diabetes'] == 1) & (data['age'] > 50)]\n",
    "result_count = len(female_diabetes_over50)\n",
    "print(f\"Female + Diabetes + Over 50: {result_count:,} patients\")\n",
    "print(\"\\nStep-by-step verification:\")\n",
    "step1 = data[data['gender'] == 'Female']\n",
    "print(f\"  Step 1 - Female patients: {len(step1):,}\")\n",
    "step2 = step1[step1['diabetes'] == 1]\n",
    "print(f\"  Step 2 - Female with diabetes: {len(step2):,}\")\n",
    "step3 = step2[step2['age'] > 50]\n",
    "print(f\"  Step 3 - Female with diabetes over 50: {len(step3):,}\")\n",
    "print(f\"Both methods give same result: {result_count == len(step3)}\")\n",
    "print(f\"✅ ANSWER: {result_count:,} patients\")"
   ]
  },
  {
   "cell_type": "markdown",
   "metadata": {},
   "source": [
    "## Question 9: Average age of non-diabetic patients"
   ]
  },
  {
   "cell_type": "code",
   "execution_count": 10,
   "metadata": {},
   "outputs": [
    {
     "name": "stdout",
     "output_type": "stream",
     "text": [
      "Average age of non-diabetic patients: 40.46 years\n",
      "Rounded to nearest whole number: 40 years\n",
      "Falls into range: B) 40-42 years\n",
      "✅ ANSWER: B) 40-42 years\n"
     ]
    }
   ],
   "source": [
    "non_diabetic_patients = data[data['diabetes'] == 0]\n",
    "non_diabetic_age = non_diabetic_patients['age'].mean()\n",
    "rounded_age = round(non_diabetic_age)\n",
    "print(f\"Average age of non-diabetic patients: {non_diabetic_age:.2f} years\")\n",
    "print(f\"Rounded to nearest whole number: {rounded_age} years\")\n",
    "if 38 <= non_diabetic_age <= 40:\n",
    "    age_range = \"A) 38-40 years\"\n",
    "elif 40 < non_diabetic_age <= 42:\n",
    "    age_range = \"B) 40-42 years\"\n",
    "elif 42 < non_diabetic_age <= 44:\n",
    "    age_range = \"C) 42-44 years\"\n",
    "else:\n",
    "    age_range = \"D) 44-46 years\"\n",
    "print(f\"Falls into range: {age_range}\")\n",
    "print(f\"✅ ANSWER: {age_range}\")"
   ]
  },
  {
   "cell_type": "markdown",
   "metadata": {},
   "source": [
    "## Question 10: Patients with BMI > 30 (obese)"
   ]
  },
  {
   "cell_type": "code",
   "execution_count": 11,
   "metadata": {},
   "outputs": [
    {
     "name": "stdout",
     "output_type": "stream",
     "text": [
      "Patients with BMI > 30: 23,483\n",
      "\n",
      "BMI Categories breakdown:\n",
      "  Underweight (< 18.5): 8,494\n",
      "  Normal (18.5-25): 22,219\n",
      "  Overweight (25-30): 45,804\n",
      "  Obese (> 30): 23,483\n",
      "\n",
      "Percentage of obese patients: 23.5%\n",
      "✅ ANSWER: 23483 patients\n"
     ]
    }
   ],
   "source": [
    "obese_patients = data[data['bmi'] > 30]\n",
    "obese_count = len(obese_patients)\n",
    "print(f\"Patients with BMI > 30: {obese_count:,}\")\n",
    "print(\"\\nBMI Categories breakdown:\")\n",
    "underweight = len(data[data['bmi'] < 18.5])\n",
    "normal = len(data[(data['bmi'] >= 18.5) & (data['bmi'] < 25)])\n",
    "overweight = len(data[(data['bmi'] >= 25) & (data['bmi'] <= 30)])\n",
    "obese = len(data[data['bmi'] > 30])\n",
    "print(f\"  Underweight (< 18.5): {underweight:,}\")\n",
    "print(f\"  Normal (18.5-25): {normal:,}\")\n",
    "print(f\"  Overweight (25-30): {overweight:,}\")\n",
    "print(f\"  Obese (> 30): {obese:,}\")\n",
    "obese_percentage = (obese_count / len(data)) * 100\n",
    "print(f\"\\nPercentage of obese patients: {obese_percentage:.1f}%\")\n",
    "print(f\"✅ ANSWER: {obese_count} patients\")"
   ]
  },
  {
   "cell_type": "code",
   "execution_count": null,
   "metadata": {},
   "outputs": [],
   "source": []
  }
 ],
 "metadata": {
  "kernelspec": {
   "display_name": "Python 3 (ipykernel)",
   "language": "python",
   "name": "python3"
  },
  "language_info": {
   "codemirror_mode": {
    "name": "ipython",
    "version": 3
   },
   "file_extension": ".py",
   "mimetype": "text/x-python",
   "name": "python",
   "nbconvert_exporter": "python",
   "pygments_lexer": "ipython3",
   "version": "3.12.11"
  }
 },
 "nbformat": 4,
 "nbformat_minor": 4
}
